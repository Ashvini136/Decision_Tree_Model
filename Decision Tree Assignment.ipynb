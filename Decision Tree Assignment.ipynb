{
 "cells": [
  {
   "cell_type": "markdown",
   "id": "8718701e",
   "metadata": {},
   "source": [
    "**Ashvini Kawad**"
   ]
  },
  {
   "cell_type": "markdown",
   "id": "d1459eeb",
   "metadata": {},
   "source": [
    "**Decision Tree Assignment**"
   ]
  },
  {
   "cell_type": "code",
   "execution_count": 118,
   "id": "d8f78ef4",
   "metadata": {},
   "outputs": [],
   "source": [
    "# importing Libraries\n",
    "import pandas as pd\n",
    "import numpy as np\n",
    "import matplotlib.pyplot as plt"
   ]
  },
  {
   "cell_type": "code",
   "execution_count": 119,
   "id": "33c4fde5",
   "metadata": {},
   "outputs": [],
   "source": [
    "\n",
    "data={'Outlook':['sunny','sunny','sunny','sunny','sunny','overcast','overcast','overcast','overcast',\n",
    "                'rain','rain','rain','rain','rain'],\n",
    "     'Temp(F)':[75,80,85,72,69,72,83,64,81,71,65,75,68,70],\n",
    "     'Humidity(%)':[70,90,85,95,70,90,78,65,75,80,70,80,80,96],\n",
    "     'Windy?':['true','true','false','false','false','true','false','true','false','true','true',\n",
    "              'false','false','false'],\n",
    "     'Class':['Play','Dont Play','Dont Play','Dont Play','Play','Play','Play','Play','Play','Dont Play',\n",
    "              'Dont Play','Play','Play','Play']}"
   ]
  },
  {
   "cell_type": "code",
   "execution_count": 120,
   "id": "cda04b6d",
   "metadata": {},
   "outputs": [],
   "source": [
    "# create Dataframe\n",
    "df=pd.DataFrame(data)"
   ]
  },
  {
   "cell_type": "code",
   "execution_count": 121,
   "id": "8ce75a60",
   "metadata": {},
   "outputs": [
    {
     "data": {
      "text/html": [
       "<div>\n",
       "<style scoped>\n",
       "    .dataframe tbody tr th:only-of-type {\n",
       "        vertical-align: middle;\n",
       "    }\n",
       "\n",
       "    .dataframe tbody tr th {\n",
       "        vertical-align: top;\n",
       "    }\n",
       "\n",
       "    .dataframe thead th {\n",
       "        text-align: right;\n",
       "    }\n",
       "</style>\n",
       "<table border=\"1\" class=\"dataframe\">\n",
       "  <thead>\n",
       "    <tr style=\"text-align: right;\">\n",
       "      <th></th>\n",
       "      <th>Outlook</th>\n",
       "      <th>Temp(F)</th>\n",
       "      <th>Humidity(%)</th>\n",
       "      <th>Windy?</th>\n",
       "      <th>Class</th>\n",
       "    </tr>\n",
       "  </thead>\n",
       "  <tbody>\n",
       "    <tr>\n",
       "      <th>0</th>\n",
       "      <td>sunny</td>\n",
       "      <td>75</td>\n",
       "      <td>70</td>\n",
       "      <td>true</td>\n",
       "      <td>Play</td>\n",
       "    </tr>\n",
       "    <tr>\n",
       "      <th>1</th>\n",
       "      <td>sunny</td>\n",
       "      <td>80</td>\n",
       "      <td>90</td>\n",
       "      <td>true</td>\n",
       "      <td>Dont Play</td>\n",
       "    </tr>\n",
       "    <tr>\n",
       "      <th>2</th>\n",
       "      <td>sunny</td>\n",
       "      <td>85</td>\n",
       "      <td>85</td>\n",
       "      <td>false</td>\n",
       "      <td>Dont Play</td>\n",
       "    </tr>\n",
       "    <tr>\n",
       "      <th>3</th>\n",
       "      <td>sunny</td>\n",
       "      <td>72</td>\n",
       "      <td>95</td>\n",
       "      <td>false</td>\n",
       "      <td>Dont Play</td>\n",
       "    </tr>\n",
       "    <tr>\n",
       "      <th>4</th>\n",
       "      <td>sunny</td>\n",
       "      <td>69</td>\n",
       "      <td>70</td>\n",
       "      <td>false</td>\n",
       "      <td>Play</td>\n",
       "    </tr>\n",
       "    <tr>\n",
       "      <th>5</th>\n",
       "      <td>overcast</td>\n",
       "      <td>72</td>\n",
       "      <td>90</td>\n",
       "      <td>true</td>\n",
       "      <td>Play</td>\n",
       "    </tr>\n",
       "    <tr>\n",
       "      <th>6</th>\n",
       "      <td>overcast</td>\n",
       "      <td>83</td>\n",
       "      <td>78</td>\n",
       "      <td>false</td>\n",
       "      <td>Play</td>\n",
       "    </tr>\n",
       "    <tr>\n",
       "      <th>7</th>\n",
       "      <td>overcast</td>\n",
       "      <td>64</td>\n",
       "      <td>65</td>\n",
       "      <td>true</td>\n",
       "      <td>Play</td>\n",
       "    </tr>\n",
       "    <tr>\n",
       "      <th>8</th>\n",
       "      <td>overcast</td>\n",
       "      <td>81</td>\n",
       "      <td>75</td>\n",
       "      <td>false</td>\n",
       "      <td>Play</td>\n",
       "    </tr>\n",
       "    <tr>\n",
       "      <th>9</th>\n",
       "      <td>rain</td>\n",
       "      <td>71</td>\n",
       "      <td>80</td>\n",
       "      <td>true</td>\n",
       "      <td>Dont Play</td>\n",
       "    </tr>\n",
       "    <tr>\n",
       "      <th>10</th>\n",
       "      <td>rain</td>\n",
       "      <td>65</td>\n",
       "      <td>70</td>\n",
       "      <td>true</td>\n",
       "      <td>Dont Play</td>\n",
       "    </tr>\n",
       "    <tr>\n",
       "      <th>11</th>\n",
       "      <td>rain</td>\n",
       "      <td>75</td>\n",
       "      <td>80</td>\n",
       "      <td>false</td>\n",
       "      <td>Play</td>\n",
       "    </tr>\n",
       "    <tr>\n",
       "      <th>12</th>\n",
       "      <td>rain</td>\n",
       "      <td>68</td>\n",
       "      <td>80</td>\n",
       "      <td>false</td>\n",
       "      <td>Play</td>\n",
       "    </tr>\n",
       "    <tr>\n",
       "      <th>13</th>\n",
       "      <td>rain</td>\n",
       "      <td>70</td>\n",
       "      <td>96</td>\n",
       "      <td>false</td>\n",
       "      <td>Play</td>\n",
       "    </tr>\n",
       "  </tbody>\n",
       "</table>\n",
       "</div>"
      ],
      "text/plain": [
       "     Outlook  Temp(F)  Humidity(%) Windy?      Class\n",
       "0      sunny       75           70   true       Play\n",
       "1      sunny       80           90   true  Dont Play\n",
       "2      sunny       85           85  false  Dont Play\n",
       "3      sunny       72           95  false  Dont Play\n",
       "4      sunny       69           70  false       Play\n",
       "5   overcast       72           90   true       Play\n",
       "6   overcast       83           78  false       Play\n",
       "7   overcast       64           65   true       Play\n",
       "8   overcast       81           75  false       Play\n",
       "9       rain       71           80   true  Dont Play\n",
       "10      rain       65           70   true  Dont Play\n",
       "11      rain       75           80  false       Play\n",
       "12      rain       68           80  false       Play\n",
       "13      rain       70           96  false       Play"
      ]
     },
     "execution_count": 121,
     "metadata": {},
     "output_type": "execute_result"
    }
   ],
   "source": [
    "df"
   ]
  },
  {
   "cell_type": "code",
   "execution_count": 122,
   "id": "ae10bf6a",
   "metadata": {},
   "outputs": [
    {
     "data": {
      "text/plain": [
       "(14, 5)"
      ]
     },
     "execution_count": 122,
     "metadata": {},
     "output_type": "execute_result"
    }
   ],
   "source": [
    "# shape of dataframe\n",
    "df.shape"
   ]
  },
  {
   "cell_type": "code",
   "execution_count": 123,
   "id": "1f6c5659",
   "metadata": {},
   "outputs": [
    {
     "data": {
      "text/plain": [
       "Outlook        0\n",
       "Temp(F)        0\n",
       "Humidity(%)    0\n",
       "Windy?         0\n",
       "Class          0\n",
       "dtype: int64"
      ]
     },
     "execution_count": 123,
     "metadata": {},
     "output_type": "execute_result"
    }
   ],
   "source": [
    "# checking null values\n",
    "df.isnull().sum()"
   ]
  },
  {
   "cell_type": "code",
   "execution_count": 124,
   "id": "7f9b6b3d",
   "metadata": {},
   "outputs": [
    {
     "data": {
      "text/plain": [
       "Index(['Outlook', 'Temp(F)', 'Humidity(%)', 'Windy?', 'Class'], dtype='object')"
      ]
     },
     "execution_count": 124,
     "metadata": {},
     "output_type": "execute_result"
    }
   ],
   "source": [
    "# columns in dataframe\n",
    "df.columns"
   ]
  },
  {
   "cell_type": "code",
   "execution_count": 125,
   "id": "c3c38469",
   "metadata": {},
   "outputs": [
    {
     "data": {
      "text/plain": [
       "Outlook        object\n",
       "Temp(F)         int64\n",
       "Humidity(%)     int64\n",
       "Windy?         object\n",
       "Class          object\n",
       "dtype: object"
      ]
     },
     "execution_count": 125,
     "metadata": {},
     "output_type": "execute_result"
    }
   ],
   "source": [
    "df.dtypes"
   ]
  },
  {
   "cell_type": "code",
   "execution_count": 126,
   "id": "8f8102a8",
   "metadata": {},
   "outputs": [
    {
     "name": "stdout",
     "output_type": "stream",
     "text": [
      "<class 'pandas.core.frame.DataFrame'>\n",
      "RangeIndex: 14 entries, 0 to 13\n",
      "Data columns (total 5 columns):\n",
      " #   Column       Non-Null Count  Dtype \n",
      "---  ------       --------------  ----- \n",
      " 0   Outlook      14 non-null     object\n",
      " 1   Temp(F)      14 non-null     int64 \n",
      " 2   Humidity(%)  14 non-null     int64 \n",
      " 3   Windy?       14 non-null     object\n",
      " 4   Class        14 non-null     object\n",
      "dtypes: int64(2), object(3)\n",
      "memory usage: 688.0+ bytes\n"
     ]
    }
   ],
   "source": [
    "# information of dataframe\n",
    "df.info()"
   ]
  },
  {
   "cell_type": "code",
   "execution_count": 127,
   "id": "e0b6b9b2",
   "metadata": {},
   "outputs": [],
   "source": [
    "# convert Categorical features into numberical features using map function\n",
    "outlook_mapping={'sunny':0,'overcast':1,'rain':2}"
   ]
  },
  {
   "cell_type": "code",
   "execution_count": 128,
   "id": "fdbe414f",
   "metadata": {},
   "outputs": [],
   "source": [
    "windy_mapping={'true':0,'false':1}"
   ]
  },
  {
   "cell_type": "code",
   "execution_count": 129,
   "id": "4ccc9a34",
   "metadata": {},
   "outputs": [],
   "source": [
    "df['Outlook']=df['Outlook'].map(outlook_mapping)\n",
    "df['Windy?']=df['Windy?'].map(windy_mapping)"
   ]
  },
  {
   "cell_type": "code",
   "execution_count": 130,
   "id": "285dc125",
   "metadata": {},
   "outputs": [
    {
     "data": {
      "text/html": [
       "<div>\n",
       "<style scoped>\n",
       "    .dataframe tbody tr th:only-of-type {\n",
       "        vertical-align: middle;\n",
       "    }\n",
       "\n",
       "    .dataframe tbody tr th {\n",
       "        vertical-align: top;\n",
       "    }\n",
       "\n",
       "    .dataframe thead th {\n",
       "        text-align: right;\n",
       "    }\n",
       "</style>\n",
       "<table border=\"1\" class=\"dataframe\">\n",
       "  <thead>\n",
       "    <tr style=\"text-align: right;\">\n",
       "      <th></th>\n",
       "      <th>Outlook</th>\n",
       "      <th>Temp(F)</th>\n",
       "      <th>Humidity(%)</th>\n",
       "      <th>Windy?</th>\n",
       "      <th>Class</th>\n",
       "    </tr>\n",
       "  </thead>\n",
       "  <tbody>\n",
       "    <tr>\n",
       "      <th>0</th>\n",
       "      <td>0</td>\n",
       "      <td>75</td>\n",
       "      <td>70</td>\n",
       "      <td>0</td>\n",
       "      <td>Play</td>\n",
       "    </tr>\n",
       "    <tr>\n",
       "      <th>1</th>\n",
       "      <td>0</td>\n",
       "      <td>80</td>\n",
       "      <td>90</td>\n",
       "      <td>0</td>\n",
       "      <td>Dont Play</td>\n",
       "    </tr>\n",
       "    <tr>\n",
       "      <th>2</th>\n",
       "      <td>0</td>\n",
       "      <td>85</td>\n",
       "      <td>85</td>\n",
       "      <td>1</td>\n",
       "      <td>Dont Play</td>\n",
       "    </tr>\n",
       "    <tr>\n",
       "      <th>3</th>\n",
       "      <td>0</td>\n",
       "      <td>72</td>\n",
       "      <td>95</td>\n",
       "      <td>1</td>\n",
       "      <td>Dont Play</td>\n",
       "    </tr>\n",
       "    <tr>\n",
       "      <th>4</th>\n",
       "      <td>0</td>\n",
       "      <td>69</td>\n",
       "      <td>70</td>\n",
       "      <td>1</td>\n",
       "      <td>Play</td>\n",
       "    </tr>\n",
       "    <tr>\n",
       "      <th>5</th>\n",
       "      <td>1</td>\n",
       "      <td>72</td>\n",
       "      <td>90</td>\n",
       "      <td>0</td>\n",
       "      <td>Play</td>\n",
       "    </tr>\n",
       "    <tr>\n",
       "      <th>6</th>\n",
       "      <td>1</td>\n",
       "      <td>83</td>\n",
       "      <td>78</td>\n",
       "      <td>1</td>\n",
       "      <td>Play</td>\n",
       "    </tr>\n",
       "    <tr>\n",
       "      <th>7</th>\n",
       "      <td>1</td>\n",
       "      <td>64</td>\n",
       "      <td>65</td>\n",
       "      <td>0</td>\n",
       "      <td>Play</td>\n",
       "    </tr>\n",
       "    <tr>\n",
       "      <th>8</th>\n",
       "      <td>1</td>\n",
       "      <td>81</td>\n",
       "      <td>75</td>\n",
       "      <td>1</td>\n",
       "      <td>Play</td>\n",
       "    </tr>\n",
       "    <tr>\n",
       "      <th>9</th>\n",
       "      <td>2</td>\n",
       "      <td>71</td>\n",
       "      <td>80</td>\n",
       "      <td>0</td>\n",
       "      <td>Dont Play</td>\n",
       "    </tr>\n",
       "    <tr>\n",
       "      <th>10</th>\n",
       "      <td>2</td>\n",
       "      <td>65</td>\n",
       "      <td>70</td>\n",
       "      <td>0</td>\n",
       "      <td>Dont Play</td>\n",
       "    </tr>\n",
       "    <tr>\n",
       "      <th>11</th>\n",
       "      <td>2</td>\n",
       "      <td>75</td>\n",
       "      <td>80</td>\n",
       "      <td>1</td>\n",
       "      <td>Play</td>\n",
       "    </tr>\n",
       "    <tr>\n",
       "      <th>12</th>\n",
       "      <td>2</td>\n",
       "      <td>68</td>\n",
       "      <td>80</td>\n",
       "      <td>1</td>\n",
       "      <td>Play</td>\n",
       "    </tr>\n",
       "    <tr>\n",
       "      <th>13</th>\n",
       "      <td>2</td>\n",
       "      <td>70</td>\n",
       "      <td>96</td>\n",
       "      <td>1</td>\n",
       "      <td>Play</td>\n",
       "    </tr>\n",
       "  </tbody>\n",
       "</table>\n",
       "</div>"
      ],
      "text/plain": [
       "    Outlook  Temp(F)  Humidity(%)  Windy?      Class\n",
       "0         0       75           70       0       Play\n",
       "1         0       80           90       0  Dont Play\n",
       "2         0       85           85       1  Dont Play\n",
       "3         0       72           95       1  Dont Play\n",
       "4         0       69           70       1       Play\n",
       "5         1       72           90       0       Play\n",
       "6         1       83           78       1       Play\n",
       "7         1       64           65       0       Play\n",
       "8         1       81           75       1       Play\n",
       "9         2       71           80       0  Dont Play\n",
       "10        2       65           70       0  Dont Play\n",
       "11        2       75           80       1       Play\n",
       "12        2       68           80       1       Play\n",
       "13        2       70           96       1       Play"
      ]
     },
     "execution_count": 130,
     "metadata": {},
     "output_type": "execute_result"
    }
   ],
   "source": [
    "df"
   ]
  },
  {
   "cell_type": "markdown",
   "id": "4631dcb0",
   "metadata": {},
   "source": [
    "**Entropy(s)= -P(yes)log2 P(yes)- P(no) log2 P(no)**"
   ]
  },
  {
   "cell_type": "code",
   "execution_count": 133,
   "id": "fb1fc163",
   "metadata": {},
   "outputs": [],
   "source": [
    "from scipy.stats import entropy\n",
    "# create function to calculate the entropy of features\n",
    "def calculate_entropy(labels):\n",
    "    value,counts = np.unique(labels, return_counts=True)\n",
    "    sum=counts.sum()\n",
    "    probabilities = counts /sum\n",
    "    return entropy(probabilities, base=2)\n",
    "\n",
    "\n"
   ]
  },
  {
   "cell_type": "markdown",
   "id": "9a5b6212",
   "metadata": {},
   "source": [
    "**Information Gain= Entropy(S)- [(Weighted Avg) *Entropy(each feature)**"
   ]
  },
  {
   "cell_type": "code",
   "execution_count": 107,
   "id": "bd4a9d51",
   "metadata": {},
   "outputs": [],
   "source": [
    "# Function to calculate information gain\n",
    "def calculate_information_gain(data, feature, threshold):\n",
    "    # Calculate entropy for the parent node\n",
    "    entropy_parent = calculate_entropy(data['Class'])\n",
    "\n",
    "    # Split the dataset based on the threshold\n",
    "    data_below_threshold = data[data[feature] <= threshold]\n",
    "    data_above_threshold = data[data[feature] > threshold]\n",
    "\n",
    "    # Calculate entropy for child nodes\n",
    "    entropy_below_threshold = calculate_entropy(data_below_threshold['Class'])\n",
    "    entropy_above_threshold = calculate_entropy(data_above_threshold['Class'])\n",
    "\n",
    "    # Calculate information gain\n",
    "    information_gain = entropy_parent - (\n",
    "            (len(data_below_threshold) / len(data)) * entropy_below_threshold +\n",
    "            (len(data_above_threshold) / len(data)) * entropy_above_threshold\n",
    "    )\n",
    "\n",
    "    return information_gain\n"
   ]
  },
  {
   "cell_type": "code",
   "execution_count": 108,
   "id": "4da940ae",
   "metadata": {},
   "outputs": [
    {
     "name": "stdout",
     "output_type": "stream",
     "text": [
      "Information Gain for Outlook: 0.10224356360985054\n"
     ]
    }
   ],
   "source": [
    "# Calculate information gain for Outlook\n",
    "outlook_information_gain = calculate_information_gain(df, 'Outlook', 0)\n",
    "print(\"Information Gain for Outlook:\", outlook_information_gain)\n",
    "\n"
   ]
  },
  {
   "cell_type": "code",
   "execution_count": 109,
   "id": "0c9d89b9",
   "metadata": {},
   "outputs": [
    {
     "name": "stdout",
     "output_type": "stream",
     "text": [
      "Information Gain for Humidity: 0.04533417202914436\n"
     ]
    }
   ],
   "source": [
    "# Calculate information gain for Humidity with the threshold of 75\n",
    "humidity_information_gain = calculate_information_gain(df, 'Humidity(%)', 75)\n",
    "\n",
    "#print(\"Information Gain for Outlook:\", outlook_information_gain)\n",
    "print(\"Information Gain for Humidity:\", humidity_information_gain)"
   ]
  },
  {
   "cell_type": "code",
   "execution_count": 110,
   "id": "3f7000b1",
   "metadata": {},
   "outputs": [
    {
     "name": "stdout",
     "output_type": "stream",
     "text": [
      "Gain Ratio for Outlook: 0.5960962428591059\n",
      "Gain Ratio for Humidity: 0.31497959814882387\n"
     ]
    }
   ],
   "source": [
    "def calculate_entropy(data):\n",
    "    value, counts = np.unique(data, return_counts=True)\n",
    "    probabilities = counts / counts.sum()\n",
    "    entropy_value = -np.sum(probabilities * np.log2(probabilities))\n",
    "    return entropy_value\n",
    "\n",
    "# Calculate split information\n",
    "def calculate_split_information(data, attribute):\n",
    "    value_counts = data[attribute].value_counts()\n",
    "    probabilities = value_counts / len(data)\n",
    "    split_information = -np.sum(probabilities * np.log2(probabilities))\n",
    "    return split_information\n",
    "\n",
    "# Calculate gain ratio\n",
    "def calculate_gain_ratio(data, target, attribute, threshold=75):\n",
    "    information_gain = calculate_information_gain(data, target, attribute)\n",
    "    split_information = calculate_split_information(data, attribute)\n",
    "\n",
    "    if split_information == 0:\n",
    "        return 0  # To handle the case when split information is 0 (to avoid division by zero)\n",
    "\n",
    "    gain_ratio = information_gain / split_information\n",
    "    return gain_ratio\n",
    "\n",
    "# Compute gain ratios for Outlook and Humidity\n",
    "gain_ratio_outlook = calculate_gain_ratio(df, 'Class', 'Outlook')\n",
    "gain_ratio_humidity = calculate_gain_ratio(df, 'Class', 'Humidity(%)', threshold=75)\n",
    "\n",
    "print(f\"Gain Ratio for Outlook: {gain_ratio_outlook}\")\n",
    "print(f\"Gain Ratio for Humidity: {gain_ratio_humidity}\")"
   ]
  },
  {
   "cell_type": "code",
   "execution_count": 111,
   "id": "b8f4e3bb",
   "metadata": {},
   "outputs": [],
   "source": [
    "from sklearn.tree import DecisionTreeClassifier"
   ]
  },
  {
   "cell_type": "code",
   "execution_count": 58,
   "id": "700ae4e7",
   "metadata": {},
   "outputs": [
    {
     "data": {
      "text/html": [
       "<div>\n",
       "<style scoped>\n",
       "    .dataframe tbody tr th:only-of-type {\n",
       "        vertical-align: middle;\n",
       "    }\n",
       "\n",
       "    .dataframe tbody tr th {\n",
       "        vertical-align: top;\n",
       "    }\n",
       "\n",
       "    .dataframe thead th {\n",
       "        text-align: right;\n",
       "    }\n",
       "</style>\n",
       "<table border=\"1\" class=\"dataframe\">\n",
       "  <thead>\n",
       "    <tr style=\"text-align: right;\">\n",
       "      <th></th>\n",
       "      <th>Outlook</th>\n",
       "      <th>Temp(F)</th>\n",
       "      <th>Humidity(%)</th>\n",
       "      <th>Windy?</th>\n",
       "    </tr>\n",
       "  </thead>\n",
       "  <tbody>\n",
       "    <tr>\n",
       "      <th>0</th>\n",
       "      <td>2</td>\n",
       "      <td>75</td>\n",
       "      <td>70</td>\n",
       "      <td>1</td>\n",
       "    </tr>\n",
       "    <tr>\n",
       "      <th>1</th>\n",
       "      <td>2</td>\n",
       "      <td>80</td>\n",
       "      <td>90</td>\n",
       "      <td>1</td>\n",
       "    </tr>\n",
       "    <tr>\n",
       "      <th>2</th>\n",
       "      <td>2</td>\n",
       "      <td>85</td>\n",
       "      <td>85</td>\n",
       "      <td>0</td>\n",
       "    </tr>\n",
       "    <tr>\n",
       "      <th>3</th>\n",
       "      <td>2</td>\n",
       "      <td>72</td>\n",
       "      <td>95</td>\n",
       "      <td>0</td>\n",
       "    </tr>\n",
       "    <tr>\n",
       "      <th>4</th>\n",
       "      <td>2</td>\n",
       "      <td>69</td>\n",
       "      <td>70</td>\n",
       "      <td>0</td>\n",
       "    </tr>\n",
       "    <tr>\n",
       "      <th>5</th>\n",
       "      <td>0</td>\n",
       "      <td>72</td>\n",
       "      <td>90</td>\n",
       "      <td>1</td>\n",
       "    </tr>\n",
       "    <tr>\n",
       "      <th>6</th>\n",
       "      <td>0</td>\n",
       "      <td>83</td>\n",
       "      <td>78</td>\n",
       "      <td>0</td>\n",
       "    </tr>\n",
       "    <tr>\n",
       "      <th>7</th>\n",
       "      <td>0</td>\n",
       "      <td>64</td>\n",
       "      <td>65</td>\n",
       "      <td>1</td>\n",
       "    </tr>\n",
       "    <tr>\n",
       "      <th>8</th>\n",
       "      <td>0</td>\n",
       "      <td>81</td>\n",
       "      <td>75</td>\n",
       "      <td>0</td>\n",
       "    </tr>\n",
       "    <tr>\n",
       "      <th>9</th>\n",
       "      <td>1</td>\n",
       "      <td>71</td>\n",
       "      <td>80</td>\n",
       "      <td>1</td>\n",
       "    </tr>\n",
       "    <tr>\n",
       "      <th>10</th>\n",
       "      <td>1</td>\n",
       "      <td>65</td>\n",
       "      <td>70</td>\n",
       "      <td>1</td>\n",
       "    </tr>\n",
       "    <tr>\n",
       "      <th>11</th>\n",
       "      <td>1</td>\n",
       "      <td>75</td>\n",
       "      <td>80</td>\n",
       "      <td>0</td>\n",
       "    </tr>\n",
       "    <tr>\n",
       "      <th>12</th>\n",
       "      <td>1</td>\n",
       "      <td>68</td>\n",
       "      <td>80</td>\n",
       "      <td>0</td>\n",
       "    </tr>\n",
       "    <tr>\n",
       "      <th>13</th>\n",
       "      <td>1</td>\n",
       "      <td>70</td>\n",
       "      <td>96</td>\n",
       "      <td>0</td>\n",
       "    </tr>\n",
       "  </tbody>\n",
       "</table>\n",
       "</div>"
      ],
      "text/plain": [
       "    Outlook  Temp(F)  Humidity(%)  Windy?\n",
       "0         2       75           70       1\n",
       "1         2       80           90       1\n",
       "2         2       85           85       0\n",
       "3         2       72           95       0\n",
       "4         2       69           70       0\n",
       "5         0       72           90       1\n",
       "6         0       83           78       0\n",
       "7         0       64           65       1\n",
       "8         0       81           75       0\n",
       "9         1       71           80       1\n",
       "10        1       65           70       1\n",
       "11        1       75           80       0\n",
       "12        1       68           80       0\n",
       "13        1       70           96       0"
      ]
     },
     "execution_count": 58,
     "metadata": {},
     "output_type": "execute_result"
    }
   ],
   "source": [
    "X=df.drop('Class',axis=1) # input features\n",
    "X"
   ]
  },
  {
   "cell_type": "code",
   "execution_count": 112,
   "id": "6dfcdef8",
   "metadata": {},
   "outputs": [],
   "source": [
    "y=df['Class']# target variable\n"
   ]
  },
  {
   "cell_type": "code",
   "execution_count": 113,
   "id": "0b5720e8",
   "metadata": {},
   "outputs": [],
   "source": [
    "from sklearn.tree import DecisionTreeClassifier"
   ]
  },
  {
   "cell_type": "code",
   "execution_count": 114,
   "id": "979f2f34",
   "metadata": {},
   "outputs": [],
   "source": [
    "model=DecisionTreeClassifier(criterion='entropy') # create model"
   ]
  },
  {
   "cell_type": "code",
   "execution_count": 115,
   "id": "77359927",
   "metadata": {},
   "outputs": [
    {
     "data": {
      "text/plain": [
       "DecisionTreeClassifier(criterion='entropy')"
      ]
     },
     "execution_count": 115,
     "metadata": {},
     "output_type": "execute_result"
    }
   ],
   "source": [
    "model.fit(X,y) # training model"
   ]
  },
  {
   "cell_type": "code",
   "execution_count": 116,
   "id": "94292c2e",
   "metadata": {},
   "outputs": [],
   "source": [
    "from sklearn import tree\n"
   ]
  },
  {
   "cell_type": "code",
   "execution_count": 117,
   "id": "a6cf8cde",
   "metadata": {},
   "outputs": [
    {
     "data": {
      "text/plain": [
       "[Text(0.5714285714285714, 0.9166666666666666, 'Outlook <= 0.5\\nentropy = 0.94\\nsamples = 14\\nvalue = [5, 9]'),\n",
       " Text(0.42857142857142855, 0.75, 'entropy = 0.0\\nsamples = 4\\nvalue = [0, 4]'),\n",
       " Text(0.7142857142857143, 0.75, 'Temp(F) <= 77.5\\nentropy = 1.0\\nsamples = 10\\nvalue = [5, 5]'),\n",
       " Text(0.5714285714285714, 0.5833333333333334, 'Temp(F) <= 73.5\\nentropy = 0.954\\nsamples = 8\\nvalue = [3, 5]'),\n",
       " Text(0.42857142857142855, 0.4166666666666667, 'Windy? <= 0.5\\nentropy = 1.0\\nsamples = 6\\nvalue = [3, 3]'),\n",
       " Text(0.2857142857142857, 0.25, 'Temp(F) <= 71.0\\nentropy = 0.811\\nsamples = 4\\nvalue = [1, 3]'),\n",
       " Text(0.14285714285714285, 0.08333333333333333, 'entropy = 0.0\\nsamples = 3\\nvalue = [0, 3]'),\n",
       " Text(0.42857142857142855, 0.08333333333333333, 'entropy = 0.0\\nsamples = 1\\nvalue = [1, 0]'),\n",
       " Text(0.5714285714285714, 0.25, 'entropy = 0.0\\nsamples = 2\\nvalue = [2, 0]'),\n",
       " Text(0.7142857142857143, 0.4166666666666667, 'entropy = 0.0\\nsamples = 2\\nvalue = [0, 2]'),\n",
       " Text(0.8571428571428571, 0.5833333333333334, 'entropy = 0.0\\nsamples = 2\\nvalue = [2, 0]')]"
      ]
     },
     "execution_count": 117,
     "metadata": {},
     "output_type": "execute_result"
    },
    {
     "data": {
      "image/png": "[encoded data removed]",
      "text/plain": [
       "<Figure size 720x864 with 1 Axes>"
      ]
     },
     "metadata": {
      "needs_background": "light"
     },
     "output_type": "display_data"
    }
   ],
   "source": [
    "plt.figure(figsize=(10,12))\n",
    "tree.plot_tree(model,filled=True,feature_names=X.columns)"
   ]
  },
  {
   "cell_type": "code",
   "execution_count": null,
   "id": "dc09c182",
   "metadata": {},
   "outputs": [],
   "source": []
  }
 ],
 "metadata": {
  "kernelspec": {
   "display_name": "Python 3 (ipykernel)",
   "language": "python",
   "name": "python3"
  },
  "language_info": {
   "codemirror_mode": {
    "name": "ipython",
    "version": 3
   },
   "file_extension": ".py",
   "mimetype": "text/x-python",
   "name": "python",
   "nbconvert_exporter": "python",
   "pygments_lexer": "ipython3",
   "version": "3.9.12"
  }
 },
 "nbformat": 4,
 "nbformat_minor": 5
}
